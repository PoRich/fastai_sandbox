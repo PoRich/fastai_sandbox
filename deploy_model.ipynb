{
 "cells": [
  {
   "cell_type": "code",
   "execution_count": 1,
   "metadata": {
    "colab": {
     "base_uri": "https://localhost:8080/",
     "height": 52
    },
    "executionInfo": {
     "elapsed": 5914,
     "status": "ok",
     "timestamp": 1602505870924,
     "user": {
      "displayName": "Richard M",
      "photoUrl": "https://lh3.googleusercontent.com/a-/AOh14GgfgBmC4UTSTnIqsqIh-VVnvaGsNjKFsUl0XZX9kw=s64",
      "userId": "10146038962371677667"
     },
     "user_tz": 240
    },
    "id": "khKCo3BQhklr",
    "outputId": "c31e54aa-1d13-4216-cdef-9329a51a9a27"
   },
   "outputs": [],
   "source": [
    "#! [ -e /content ] && pip install -Uqq fastai  # upgrade fastai on colab"
   ]
  },
  {
   "cell_type": "code",
   "execution_count": 2,
   "metadata": {
    "id": "LW6mBHzOuZ7_"
   },
   "outputs": [
    {
     "name": "stdout",
     "output_type": "stream",
     "text": [
      "Enabling notebook extension jupyter-js-widgets/extension...\r\n",
      "      - Validating: \u001b[32mOK\u001b[0m\r\n"
     ]
    }
   ],
   "source": [
    "!pip install ipywidgets\n",
    "!jupyter nbextension enable --py widgetsnbextension"
   ]
  },
  {
   "cell_type": "code",
   "execution_count": 3,
   "metadata": {
    "colab": {
     "base_uri": "https://localhost:8080/",
     "height": 714
    },
    "executionInfo": {
     "elapsed": 3978,
     "status": "ok",
     "timestamp": 1602505989894,
     "user": {
      "displayName": "Richard M",
      "photoUrl": "https://lh3.googleusercontent.com/a-/AOh14GgfgBmC4UTSTnIqsqIh-VVnvaGsNjKFsUl0XZX9kw=s64",
      "userId": "10146038962371677667"
     },
     "user_tz": 240
    },
    "id": "M77vAQ8PwmPr",
    "outputId": "5c08e5b2-581e-48d9-fcef-83ce3267f381"
   },
   "outputs": [
    {
     "name": "stdout",
     "output_type": "stream",
     "text": [
      "Enabling: voila\n",
      "- Writing config: /home/rsun/Applications/miniconda3/envs/venv/etc/jupyter\n",
      "    - Validating...\n",
      "      voila 0.2.3 \u001b[32mOK\u001b[0m\n"
     ]
    }
   ],
   "source": [
    "!pip install voila\n",
    "!jupyter serverextension enable voila --sys-prefix"
   ]
  },
  {
   "cell_type": "code",
   "execution_count": 4,
   "metadata": {
    "colab": {
     "base_uri": "https://localhost:8080/",
     "height": 34
    },
    "executionInfo": {
     "elapsed": 21996,
     "status": "ok",
     "timestamp": 1602505927027,
     "user": {
      "displayName": "Richard M",
      "photoUrl": "https://lh3.googleusercontent.com/a-/AOh14GgfgBmC4UTSTnIqsqIh-VVnvaGsNjKFsUl0XZX9kw=s64",
      "userId": "10146038962371677667"
     },
     "user_tz": 240
    },
    "id": "Kkz3QVD9hmOF",
    "outputId": "69731622-de03-4fc4-d8b4-58639110a6ed"
   },
   "outputs": [],
   "source": [
    "# load fastai, mount googledrive\n",
    "from fastai.vision.all import *\n",
    "from fastai.text.all import *\n",
    "from fastai.collab import *\n",
    "from fastai.tabular.all import *\n"
   ]
  },
  {
   "cell_type": "code",
   "execution_count": 5,
   "metadata": {
    "executionInfo": {
     "elapsed": 599,
     "status": "ok",
     "timestamp": 1602505933751,
     "user": {
      "displayName": "Richard M",
      "photoUrl": "https://lh3.googleusercontent.com/a-/AOh14GgfgBmC4UTSTnIqsqIh-VVnvaGsNjKFsUl0XZX9kw=s64",
      "userId": "10146038962371677667"
     },
     "user_tz": 240
    },
    "id": "_X11jmz9ib88"
   },
   "outputs": [],
   "source": [
    "from __future__ import print_function\n",
    "from ipywidgets import interact, interactive, fixed, interact_manual\n",
    "import ipywidgets as widgets"
   ]
  },
  {
   "cell_type": "code",
   "execution_count": 6,
   "metadata": {
    "colab": {
     "base_uri": "https://localhost:8080/",
     "height": 346
    },
    "executionInfo": {
     "elapsed": 513,
     "status": "error",
     "timestamp": 1602505954096,
     "user": {
      "displayName": "Richard M",
      "photoUrl": "https://lh3.googleusercontent.com/a-/AOh14GgfgBmC4UTSTnIqsqIh-VVnvaGsNjKFsUl0XZX9kw=s64",
      "userId": "10146038962371677667"
     },
     "user_tz": 240
    },
    "id": "sas4MhDSh718",
    "outputId": "97d9e4ea-bd76-40c4-f2e0-4fedb248302a"
   },
   "outputs": [],
   "source": [
    "# load inference model\n",
    "custom_path = './'\n",
    "model_name = 'bear_model.pkl'\n",
    "learn_inf = load_learner(custom_path+model_name)"
   ]
  },
  {
   "cell_type": "code",
   "execution_count": 7,
   "metadata": {
    "colab": {
     "base_uri": "https://localhost:8080/",
     "height": 49,
     "referenced_widgets": [
      "1a3f6d9ed27b4713821d94f54e12d124",
      "361ddf9e51fa4bb7a7607374c113f26f",
      "d32cd88c343d4119b2b53f8edd29eaec"
     ]
    },
    "executionInfo": {
     "elapsed": 572,
     "status": "ok",
     "timestamp": 1602504850434,
     "user": {
      "displayName": "Richard M",
      "photoUrl": "https://lh3.googleusercontent.com/a-/AOh14GgfgBmC4UTSTnIqsqIh-VVnvaGsNjKFsUl0XZX9kw=s64",
      "userId": "10146038962371677667"
     },
     "user_tz": 240
    },
    "id": "u6Mpx6VYiEKG",
    "outputId": "5caee852-35b3-40c7-eae3-0e81b53f0e41"
   },
   "outputs": [],
   "source": [
    "# create widgets\n",
    "btn_upload = widgets.FileUpload()\n",
    "btn_run = widgets.Button(description='Classify')\n",
    "out_pl = widgets.Output()\n",
    "lbl_pred = widgets.Label()"
   ]
  },
  {
   "cell_type": "code",
   "execution_count": 8,
   "metadata": {
    "executionInfo": {
     "elapsed": 854,
     "status": "ok",
     "timestamp": 1602505241298,
     "user": {
      "displayName": "Richard M",
      "photoUrl": "https://lh3.googleusercontent.com/a-/AOh14GgfgBmC4UTSTnIqsqIh-VVnvaGsNjKFsUl0XZX9kw=s64",
      "userId": "10146038962371677667"
     },
     "user_tz": 240
    },
    "id": "t3vXQV_ZkJVp"
   },
   "outputs": [],
   "source": [
    "\n",
    "def on_click_classify(change):\n",
    "    img = PILImage.create(btn_upload.data[-1])\n",
    "    out_pl.clear_output()\n",
    "    with out_pl: display(img.to_thumb(128,128))\n",
    "    pred,pred_idx,probs = learn_inf.predict(img)\n",
    "    lbl_pred.value = f'Prediction: {pred}; Probability: {probs[pred_idx]:.04f}'\n",
    "\n",
    "btn_run.on_click(on_click_classify)\n",
    "#Putting back btn_upload to a widget for next cell\n",
    "btn_upload = widgets.FileUpload()"
   ]
  },
  {
   "cell_type": "code",
   "execution_count": 9,
   "metadata": {
    "colab": {
     "base_uri": "https://localhost:8080/",
     "height": 183
    },
    "executionInfo": {
     "elapsed": 450,
     "status": "error",
     "timestamp": 1602506004477,
     "user": {
      "displayName": "Richard M",
      "photoUrl": "https://lh3.googleusercontent.com/a-/AOh14GgfgBmC4UTSTnIqsqIh-VVnvaGsNjKFsUl0XZX9kw=s64",
      "userId": "10146038962371677667"
     },
     "user_tz": 240
    },
    "id": "O9YsXtFgvIuC",
    "outputId": "2c9e8dec-9d01-473f-c0cf-7f5df13a6a02"
   },
   "outputs": [
    {
     "data": {
      "application/vnd.jupyter.widget-view+json": {
       "model_id": "361d373693ce4afb9c59385eae08eaf6",
       "version_major": 2,
       "version_minor": 0
      },
      "text/plain": [
       "VBox(children=(Label(value='Select your bear!'), FileUpload(value={}, description='Upload'), Button(descriptio…"
      ]
     },
     "metadata": {},
     "output_type": "display_data"
    }
   ],
   "source": [
    "widgets.VBox([widgets.Label('Select your bear!'), \n",
    "      btn_upload, btn_run, out_pl, lbl_pred])"
   ]
  },
  {
   "cell_type": "code",
   "execution_count": null,
   "metadata": {},
   "outputs": [],
   "source": []
  },
  {
   "cell_type": "code",
   "execution_count": null,
   "metadata": {},
   "outputs": [],
   "source": []
  }
 ],
 "metadata": {
  "colab": {
   "authorship_tag": "ABX9TyNlAw6/3Vws7PW2tRdorVBw",
   "collapsed_sections": [],
   "mount_file_id": "1rpjCzNthVu1uEnOH9KGpbVRghl7RPnx0",
   "name": "deploy_model.ipynb",
   "provenance": []
  },
  "kernelspec": {
   "display_name": "Python 3",
   "language": "python",
   "name": "python3"
  },
  "language_info": {
   "codemirror_mode": {
    "name": "ipython",
    "version": 3
   },
   "file_extension": ".py",
   "mimetype": "text/x-python",
   "name": "python",
   "nbconvert_exporter": "python",
   "pygments_lexer": "ipython3",
   "version": "3.8.3"
  },
  "widgets": {
   "application/vnd.jupyter.widget-state+json": {
    "17cddd392a9f4159b43b013c3b289095": {
     "model_module": "@jupyter-widgets/controls",
     "model_name": "DescriptionStyleModel",
     "state": {
      "_model_module": "@jupyter-widgets/controls",
      "_model_module_version": "1.5.0",
      "_model_name": "DescriptionStyleModel",
      "_view_count": null,
      "_view_module": "@jupyter-widgets/base",
      "_view_module_version": "1.2.0",
      "_view_name": "StyleView",
      "description_width": ""
     }
    },
    "1a3f6d9ed27b4713821d94f54e12d124": {
     "model_module": "@jupyter-widgets/controls",
     "model_name": "FileUploadModel",
     "state": {
      "_counter": 2,
      "_dom_classes": [],
      "_model_module": "@jupyter-widgets/controls",
      "_model_module_version": "1.5.0",
      "_model_name": "FileUploadModel",
      "_view_count": null,
      "_view_module": "@jupyter-widgets/controls",
      "_view_module_version": "1.5.0",
      "_view_name": "FileUploadView",
      "accept": "",
      "button_style": "",
      "data": [
       null
      ],
      "description": "Upload",
      "description_tooltip": null,
      "disabled": false,
      "error": "",
      "icon": "upload",
      "layout": "IPY_MODEL_d32cd88c343d4119b2b53f8edd29eaec",
      "metadata": [
       {
        "lastModified": 1602364114494,
        "name": "blue-gummy-bear.jpg",
        "size": 159464,
        "type": "image/jpeg"
       }
      ],
      "multiple": false,
      "style": "IPY_MODEL_361ddf9e51fa4bb7a7607374c113f26f"
     }
    },
    "1a71244a0f294f7993851e9c905fc537": {
     "model_module": "@jupyter-widgets/controls",
     "model_name": "ButtonModel",
     "state": {
      "_dom_classes": [],
      "_model_module": "@jupyter-widgets/controls",
      "_model_module_version": "1.5.0",
      "_model_name": "ButtonModel",
      "_view_count": null,
      "_view_module": "@jupyter-widgets/controls",
      "_view_module_version": "1.5.0",
      "_view_name": "ButtonView",
      "button_style": "",
      "description": "Classify",
      "disabled": false,
      "icon": "",
      "layout": "IPY_MODEL_ba8df17db4fa4a4ea9d5c84ed3cc311b",
      "style": "IPY_MODEL_2d5e93657f6a4b259bc844f7f0968458",
      "tooltip": ""
     }
    },
    "2d5e93657f6a4b259bc844f7f0968458": {
     "model_module": "@jupyter-widgets/controls",
     "model_name": "ButtonStyleModel",
     "state": {
      "_model_module": "@jupyter-widgets/controls",
      "_model_module_version": "1.5.0",
      "_model_name": "ButtonStyleModel",
      "_view_count": null,
      "_view_module": "@jupyter-widgets/base",
      "_view_module_version": "1.2.0",
      "_view_name": "StyleView",
      "button_color": null,
      "font_weight": ""
     }
    },
    "361ddf9e51fa4bb7a7607374c113f26f": {
     "model_module": "@jupyter-widgets/controls",
     "model_name": "ButtonStyleModel",
     "state": {
      "_model_module": "@jupyter-widgets/controls",
      "_model_module_version": "1.5.0",
      "_model_name": "ButtonStyleModel",
      "_view_count": null,
      "_view_module": "@jupyter-widgets/base",
      "_view_module_version": "1.2.0",
      "_view_name": "StyleView",
      "button_color": null,
      "font_weight": ""
     }
    },
    "3e3a2a6ecb9147258b57878579868cba": {
     "model_module": "@jupyter-widgets/base",
     "model_name": "LayoutModel",
     "state": {
      "_model_module": "@jupyter-widgets/base",
      "_model_module_version": "1.2.0",
      "_model_name": "LayoutModel",
      "_view_count": null,
      "_view_module": "@jupyter-widgets/base",
      "_view_module_version": "1.2.0",
      "_view_name": "LayoutView",
      "align_content": null,
      "align_items": null,
      "align_self": null,
      "border": null,
      "bottom": null,
      "display": null,
      "flex": null,
      "flex_flow": null,
      "grid_area": null,
      "grid_auto_columns": null,
      "grid_auto_flow": null,
      "grid_auto_rows": null,
      "grid_column": null,
      "grid_gap": null,
      "grid_row": null,
      "grid_template_areas": null,
      "grid_template_columns": null,
      "grid_template_rows": null,
      "height": null,
      "justify_content": null,
      "justify_items": null,
      "left": null,
      "margin": null,
      "max_height": null,
      "max_width": null,
      "min_height": null,
      "min_width": null,
      "object_fit": null,
      "object_position": null,
      "order": null,
      "overflow": null,
      "overflow_x": null,
      "overflow_y": null,
      "padding": null,
      "right": null,
      "top": null,
      "visibility": null,
      "width": null
     }
    },
    "7952cee9b0954dcc924ebef7c300ba67": {
     "model_module": "@jupyter-widgets/base",
     "model_name": "LayoutModel",
     "state": {
      "_model_module": "@jupyter-widgets/base",
      "_model_module_version": "1.2.0",
      "_model_name": "LayoutModel",
      "_view_count": null,
      "_view_module": "@jupyter-widgets/base",
      "_view_module_version": "1.2.0",
      "_view_name": "LayoutView",
      "align_content": null,
      "align_items": null,
      "align_self": null,
      "border": null,
      "bottom": null,
      "display": null,
      "flex": null,
      "flex_flow": null,
      "grid_area": null,
      "grid_auto_columns": null,
      "grid_auto_flow": null,
      "grid_auto_rows": null,
      "grid_column": null,
      "grid_gap": null,
      "grid_row": null,
      "grid_template_areas": null,
      "grid_template_columns": null,
      "grid_template_rows": null,
      "height": null,
      "justify_content": null,
      "justify_items": null,
      "left": null,
      "margin": null,
      "max_height": null,
      "max_width": null,
      "min_height": null,
      "min_width": null,
      "object_fit": null,
      "object_position": null,
      "order": null,
      "overflow": null,
      "overflow_x": null,
      "overflow_y": null,
      "padding": null,
      "right": null,
      "top": null,
      "visibility": null,
      "width": null
     }
    },
    "92b50df889cc417ab5e1d7a780567555": {
     "model_module": "@jupyter-widgets/controls",
     "model_name": "LabelModel",
     "state": {
      "_dom_classes": [],
      "_model_module": "@jupyter-widgets/controls",
      "_model_module_version": "1.5.0",
      "_model_name": "LabelModel",
      "_view_count": null,
      "_view_module": "@jupyter-widgets/controls",
      "_view_module_version": "1.5.0",
      "_view_name": "LabelView",
      "description": "",
      "description_tooltip": null,
      "layout": "IPY_MODEL_7952cee9b0954dcc924ebef7c300ba67",
      "placeholder": "​",
      "style": "IPY_MODEL_17cddd392a9f4159b43b013c3b289095",
      "value": "Prediction: gummy; Probability: 0.9999"
     }
    },
    "a215e98031ba4ee3b2949931ec9ca8e8": {
     "model_module": "@jupyter-widgets/output",
     "model_name": "OutputModel",
     "state": {
      "_dom_classes": [],
      "_model_module": "@jupyter-widgets/output",
      "_model_module_version": "1.0.0",
      "_model_name": "OutputModel",
      "_view_count": null,
      "_view_module": "@jupyter-widgets/output",
      "_view_module_version": "1.0.0",
      "_view_name": "OutputView",
      "layout": "IPY_MODEL_3e3a2a6ecb9147258b57878579868cba",
      "msg_id": "",
      "outputs": [
       {
        "image/png": "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\n",
        "metadata": {
         "tags": []
        },
        "output_type": "display_data",
        "text/plain": "<PIL.Image.Image image mode=RGB size=66x128 at 0x7FE8FF011E10>"
       }
      ]
     }
    },
    "ba8df17db4fa4a4ea9d5c84ed3cc311b": {
     "model_module": "@jupyter-widgets/base",
     "model_name": "LayoutModel",
     "state": {
      "_model_module": "@jupyter-widgets/base",
      "_model_module_version": "1.2.0",
      "_model_name": "LayoutModel",
      "_view_count": null,
      "_view_module": "@jupyter-widgets/base",
      "_view_module_version": "1.2.0",
      "_view_name": "LayoutView",
      "align_content": null,
      "align_items": null,
      "align_self": null,
      "border": null,
      "bottom": null,
      "display": null,
      "flex": null,
      "flex_flow": null,
      "grid_area": null,
      "grid_auto_columns": null,
      "grid_auto_flow": null,
      "grid_auto_rows": null,
      "grid_column": null,
      "grid_gap": null,
      "grid_row": null,
      "grid_template_areas": null,
      "grid_template_columns": null,
      "grid_template_rows": null,
      "height": null,
      "justify_content": null,
      "justify_items": null,
      "left": null,
      "margin": null,
      "max_height": null,
      "max_width": null,
      "min_height": null,
      "min_width": null,
      "object_fit": null,
      "object_position": null,
      "order": null,
      "overflow": null,
      "overflow_x": null,
      "overflow_y": null,
      "padding": null,
      "right": null,
      "top": null,
      "visibility": null,
      "width": null
     }
    },
    "d32cd88c343d4119b2b53f8edd29eaec": {
     "model_module": "@jupyter-widgets/base",
     "model_name": "LayoutModel",
     "state": {
      "_model_module": "@jupyter-widgets/base",
      "_model_module_version": "1.2.0",
      "_model_name": "LayoutModel",
      "_view_count": null,
      "_view_module": "@jupyter-widgets/base",
      "_view_module_version": "1.2.0",
      "_view_name": "LayoutView",
      "align_content": null,
      "align_items": null,
      "align_self": null,
      "border": null,
      "bottom": null,
      "display": null,
      "flex": null,
      "flex_flow": null,
      "grid_area": null,
      "grid_auto_columns": null,
      "grid_auto_flow": null,
      "grid_auto_rows": null,
      "grid_column": null,
      "grid_gap": null,
      "grid_row": null,
      "grid_template_areas": null,
      "grid_template_columns": null,
      "grid_template_rows": null,
      "height": null,
      "justify_content": null,
      "justify_items": null,
      "left": null,
      "margin": null,
      "max_height": null,
      "max_width": null,
      "min_height": null,
      "min_width": null,
      "object_fit": null,
      "object_position": null,
      "order": null,
      "overflow": null,
      "overflow_x": null,
      "overflow_y": null,
      "padding": null,
      "right": null,
      "top": null,
      "visibility": null,
      "width": null
     }
    }
   }
  }
 },
 "nbformat": 4,
 "nbformat_minor": 1
}
